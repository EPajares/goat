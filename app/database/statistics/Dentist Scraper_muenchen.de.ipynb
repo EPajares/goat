{
 "cells": [
  {
   "cell_type": "code",
   "execution_count": 4,
   "metadata": {},
   "outputs": [
    {
     "name": "stdout",
     "output_type": "stream",
     "text": [
      "import of modules successful\n"
     ]
    }
   ],
   "source": [
    "from bs4 import BeautifulSoup\n",
    "import pandas \n",
    "from selenium import webdriver\n",
    "import openpyxl\n",
    "import csv\n",
    "import os\n",
    "import re\n",
    "\n",
    "print('import of modules successful')\n",
    "os.chdir(r'C:\\Users\\sebas\\Documents\\Privat\\Uni\\Umweltingenieurwesen\\Masterarbeit')"
   ]
  },
  {
   "cell_type": "code",
   "execution_count": 5,
   "metadata": {},
   "outputs": [
    {
     "data": {
      "text/plain": [
       "<selenium.webdriver.firefox.webdriver.WebDriver (session=\"48076b68-bde8-478e-8d52-301634962973\")>"
      ]
     },
     "execution_count": 5,
     "metadata": {},
     "output_type": "execute_result"
    }
   ],
   "source": [
    "driver = webdriver.Firefox(executable_path=r'C:\\Users\\sebas\\Documents\\Privat\\Uni\\Umweltingenieurwesen\\Masterarbeit\\WebScraping\\geckodriver.exe')\n",
    "driver"
   ]
  },
  {
   "cell_type": "code",
   "execution_count": 20,
   "metadata": {},
   "outputs": [],
   "source": [
    "outputFile = open('zahnaerzte_muenchen.csv','w',newline='', encoding='utf-16')\n",
    "outputWriter = csv.writer(outputFile)\n",
    "outputWriter.writerow(['Name', 'Straße', 'Ort'])\n",
    "for i in range(1,7):\n",
    "    driver.get(r'https://www.muenchen.de/service/branchenbuch/Z/438_'+str(i)+'.html')\n",
    "    content = driver.page_source\n",
    "    soup = BeautifulSoup(content)\n",
    "    leng = len(soup.find_all(itemprop=\"name\"))\n",
    "    names = soup.find_all(itemprop=\"name\")\n",
    "    addresses = soup.find_all(itemprop=\"streetAddress\")\n",
    "    cities = soup.find_all(itemprop=\"addressLocality\")\n",
    "    #soup.find_all('<span class=\"item__url item__url--address str\" itemprop=\"streetAddress\">')\n",
    "    #<span class=\"item__url item__url--address zip\" itemprop=\"addressLocality\">\n",
    "    \n",
    "\n",
    "    for k in range(0, len(names)):\n",
    "        name = names[k].contents[0]\n",
    "        name = name.strip('\\n')\n",
    "        name = name.strip()\n",
    "        address = addresses[k].contents[0]\n",
    "        address = address.strip('\\n')\n",
    "        address = address.strip()\n",
    "        city = cities[k].contents[0]\n",
    "        city = city.strip('\\n')\n",
    "        city = city.strip()\n",
    "        outputWriter.writerow([name, address, city])"
   ]
  },
  {
   "cell_type": "code",
   "execution_count": 21,
   "metadata": {},
   "outputs": [],
   "source": [
    "outputFile.close()"
   ]
  }
 ],
 "metadata": {
  "kernelspec": {
   "display_name": "Python 3",
   "language": "python",
   "name": "python3"
  },
  "language_info": {
   "codemirror_mode": {
    "name": "ipython",
    "version": 3
   },
   "file_extension": ".py",
   "mimetype": "text/x-python",
   "name": "python",
   "nbconvert_exporter": "python",
   "pygments_lexer": "ipython3",
   "version": "3.8.8"
  }
 },
 "nbformat": 4,
 "nbformat_minor": 2
}
