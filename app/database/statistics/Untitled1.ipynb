{
 "cells": [
  {
   "cell_type": "code",
   "execution_count": 65,
   "metadata": {},
   "outputs": [
    {
     "name": "stdout",
     "output_type": "stream",
     "text": [
      "Import successfull\n"
     ]
    }
   ],
   "source": [
    "#Import modules\n",
    "\n",
    "import psycopg2\n",
    "import pandas as pd\n",
    "#installieren import geopandas\n",
    "import matplotlib.pyplot as plt\n",
    "import numpy as np\n",
    "import scipy.stats as sp\n",
    "from scipy.stats import linregress\n",
    "\n",
    "print(\"Import successfull\")"
   ]
  },
  {
   "cell_type": "code",
   "execution_count": 2,
   "metadata": {},
   "outputs": [
    {
     "name": "stdout",
     "output_type": "stream",
     "text": [
      "Opened database successfully\n"
     ]
    }
   ],
   "source": [
    "#Connection to database\n",
    "conn = psycopg2.connect(database=\"goat\", user=\"goat\", password=\"earlmanigault\", host=\"localhost\", port=\"65432\")\n",
    "cur = conn.cursor()\n",
    "print(\"Opened database successfully\")"
   ]
  },
  {
   "cell_type": "code",
   "execution_count": 3,
   "metadata": {},
   "outputs": [
    {
     "name": "stdout",
     "output_type": "stream",
     "text": [
      "Tables selected successfully\n"
     ]
    }
   ],
   "source": [
    "#Load data and pre processing\n",
    "data = pd.read_sql_query(\"SELECT a.amenity, a.ai, g.* from accessibility a, grid_heatmap g where a.grid_id = g.grid_id;\", conn, index_col=None, coerce_float=True, params=None, parse_dates=None, chunksize=None)\n",
    "print(\"Tables selected successfully\")"
   ]
  },
  {
   "cell_type": "code",
   "execution_count": 64,
   "metadata": {},
   "outputs": [
    {
     "ename": "NameError",
     "evalue": "name 'linregress' is not defined",
     "output_type": "error",
     "traceback": [
      "\u001b[1;31m---------------------------------------------------------------------------\u001b[0m",
      "\u001b[1;31mNameError\u001b[0m                                 Traceback (most recent call last)",
      "\u001b[1;32m<ipython-input-64-1c2e905760e8>\u001b[0m in \u001b[0;36m<module>\u001b[1;34m\u001b[0m\n\u001b[0;32m      6\u001b[0m \u001b[0mdf\u001b[0m \u001b[1;33m=\u001b[0m \u001b[0mdf2\u001b[0m\u001b[1;33m[\u001b[0m\u001b[0mdf2\u001b[0m\u001b[1;33m[\u001b[0m\u001b[1;34m'amenity'\u001b[0m\u001b[1;33m]\u001b[0m\u001b[1;33m==\u001b[0m\u001b[1;34m'pharmacy'\u001b[0m\u001b[1;33m]\u001b[0m\u001b[1;33m\u001b[0m\u001b[1;33m\u001b[0m\u001b[0m\n\u001b[0;32m      7\u001b[0m \u001b[0mdf\u001b[0m\u001b[1;33m.\u001b[0m\u001b[0mplot\u001b[0m\u001b[1;33m.\u001b[0m\u001b[0mscatter\u001b[0m\u001b[1;33m(\u001b[0m\u001b[0mx\u001b[0m\u001b[1;33m,\u001b[0m \u001b[0my\u001b[0m\u001b[1;33m,\u001b[0m \u001b[0mcolor\u001b[0m \u001b[1;33m=\u001b[0m\u001b[1;34m'orange'\u001b[0m\u001b[1;33m)\u001b[0m\u001b[1;33m\u001b[0m\u001b[1;33m\u001b[0m\u001b[0m\n\u001b[1;32m----> 8\u001b[1;33m \u001b[0mlinr\u001b[0m \u001b[1;33m=\u001b[0m \u001b[0mlinregress\u001b[0m\u001b[1;33m(\u001b[0m\u001b[0mdf\u001b[0m\u001b[1;33m[\u001b[0m\u001b[1;34m'population'\u001b[0m\u001b[1;33m]\u001b[0m\u001b[1;33m,\u001b[0m\u001b[0mdf\u001b[0m\u001b[1;33m[\u001b[0m\u001b[1;34m'ai'\u001b[0m\u001b[1;33m]\u001b[0m\u001b[1;33m)\u001b[0m\u001b[1;33m\u001b[0m\u001b[1;33m\u001b[0m\u001b[0m\n\u001b[0m",
      "\u001b[1;31mNameError\u001b[0m: name 'linregress' is not defined"
     ]
    },
    {
     "data": {
      "image/png": "[encoded data removed]",
      "text/plain": [
       "<Figure size 432x288 with 1 Axes>"
      ]
     },
     "metadata": {
      "needs_background": "light"
     },
     "output_type": "display_data"
    }
   ],
   "source": [
    "#Scatter plot\n",
    "y = 'ai'\n",
    "x = 'population'\n",
    "df1 = data[data['population']>0]\n",
    "df2 = df1[df1['ai']>0]\n",
    "df = df2[df2['amenity']=='pharmacy']\n",
    "df.plot.scatter(x, y, color ='orange')\n",
    "linr = linregress(df['population'],df['ai'])"
   ]
  },
  {
   "cell_type": "code",
   "execution_count": 16,
   "metadata": {},
   "outputs": [
    {
     "data": {
      "text/plain": [
       "(0.4541791561854329, 0.5407556371720139, 0.3819241119621523)"
      ]
     },
     "execution_count": 16,
     "metadata": {},
     "output_type": "execute_result"
    }
   ],
   "source": [
    "#correlationtable\n",
    "df['ai'].corr(df['population']), df['ai'].corr(df['population'], method='spearman'), df['ai'].corr(df['population'], method='kendall')"
   ]
  },
  {
   "cell_type": "code",
   "execution_count": 17,
   "metadata": {},
   "outputs": [
    {
     "data": {
      "text/plain": [
       "(0.45417915618543286, 0.5407556371720139, 0.3819241119621523)"
      ]
     },
     "execution_count": 17,
     "metadata": {},
     "output_type": "execute_result"
    }
   ],
   "source": [
    "df['population'].corr(df['ai']), df['population'].corr(df['ai'], method='spearman'), df['population'].corr(df['ai'], method='kendall')"
   ]
  },
  {
   "cell_type": "code",
   "execution_count": 44,
   "metadata": {},
   "outputs": [
    {
     "data": {
      "text/plain": [
       "370.7083456668992"
      ]
     },
     "execution_count": 44,
     "metadata": {},
     "output_type": "execute_result"
    }
   ],
   "source": [
    "#Standard deviation population\n",
    "n_nonzero = np.count_nonzero(df['population'])\n",
    "mean = np.sum(df['population'])/n_nonzero\n",
    "quad = sum(pow((df['population']-mean),2))\n",
    "variance = (1/n_nonzero)*quad\n",
    "deviation = np.sqrt(variance)\n",
    "\n",
    "deviation"
   ]
  },
  {
   "cell_type": "code",
   "execution_count": 24,
   "metadata": {},
   "outputs": [
    {
     "data": {
      "text/plain": [
       "16125.524012499742"
      ]
     },
     "execution_count": 24,
     "metadata": {},
     "output_type": "execute_result"
    }
   ],
   "source": [
    "#Standard deviation accessibility\n",
    "n_nonzero = np.count_nonzero(df['ai'])\n",
    "mean = np.sum(df['ai'])/n_nonzero\n",
    "quad = sum(pow((df['ai']-mean),2))\n",
    "variance = (1/n_nonzero)*quad\n",
    "deviation = np.sqrt(variance)\n",
    "deviation"
   ]
  },
  {
   "cell_type": "code",
   "execution_count": 39,
   "metadata": {},
   "outputs": [
    {
     "data": {
      "text/plain": [
       "2715022.2854061336"
      ]
     },
     "execution_count": 39,
     "metadata": {},
     "output_type": "execute_result"
    }
   ],
   "source": [
    "#Covariance\n",
    "n_nonzerox=np.count_nonzero(df['population'])\n",
    "n_nonzeroy=np.count_nonzero(df['ai'])\n",
    "meanx= np.sum(df['population'])/n_nonzerox\n",
    "meany=np.sum(df['ai'])/n_nonzeroy\n",
    "cxy = 0\n",
    "df1 = list(df['population'])\n",
    "df2 = list(df['ai'])\n",
    "\n",
    "for i in range(len(df)):\n",
    "    cxy = cxy + (df1[i]*df2[i]-meanx*meany)\n",
    "\n",
    "cxy = (1/n_nonzerox)*cxy\n",
    "cxy"
   ]
  },
  {
   "cell_type": "code",
   "execution_count": 43,
   "metadata": {},
   "outputs": [
    {
     "data": {
      "text/plain": [
       "0.45417724230688983"
      ]
     },
     "execution_count": 43,
     "metadata": {},
     "output_type": "execute_result"
    }
   ],
   "source": [
    "#Pearson r\n",
    "r = 2715022.285/(370.71*16125.52)\n",
    "r"
   ]
  },
  {
   "cell_type": "code",
   "execution_count": 45,
   "metadata": {},
   "outputs": [
    {
     "data": {
      "text/plain": [
       "7323.876889045608"
      ]
     },
     "execution_count": 45,
     "metadata": {},
     "output_type": "execute_result"
    }
   ],
   "source": [
    "b = cxy/deviation\n",
    "b"
   ]
  },
  {
   "cell_type": "code",
   "execution_count": 47,
   "metadata": {},
   "outputs": [
    {
     "data": {
      "text/plain": [
       "-3040041.788587006"
      ]
     },
     "execution_count": 47,
     "metadata": {},
     "output_type": "execute_result"
    }
   ],
   "source": [
    "a = meany - b*meanx\n",
    "a"
   ]
  },
  {
   "cell_type": "code",
   "execution_count": 62,
   "metadata": {},
   "outputs": [
    {
     "data": {
      "text/plain": [
       "[<matplotlib.lines.Line2D at 0x186d4a27080>]"
      ]
     },
     "execution_count": 62,
     "metadata": {},
     "output_type": "execute_result"
    },
    {
     "data": {
      "image/png": "[encoded data removed]",
      "text/plain": [
       "<Figure size 432x288 with 1 Axes>"
      ]
     },
     "metadata": {
      "needs_background": "light"
     },
     "output_type": "display_data"
    }
   ],
   "source": [
    "A = []\n",
    "B = []\n",
    "df = df.sort_values(by=['population'], ascending=True)\n",
    "bib = list(df['population'])\n",
    "for x in range(len(df['population'])):\n",
    "    y = a+b*bib[x]\n",
    "    A.append(bib[x])\n",
    "    B.append(y)\n",
    "    \n",
    "A, B\n",
    "#fig, ax = plt.subplots(dpi=500)\n",
    "plt.plot(A,B)\n",
    "#plt.scatter(data['population'],data['ai'], color ='orange')\n",
    "#plt.show()"
   ]
  },
  {
   "cell_type": "code",
   "execution_count": null,
   "metadata": {},
   "outputs": [],
   "source": [
    "#np.cov(data[x], data[y])\n",
    "#np.polyfit(data['population'], data['ai'], 1)\n",
    "#sp.shapiro(data[y])\n",
    "sp.pearsonr(data[x], data[y])"
   ]
  }
 ],
 "metadata": {
  "kernelspec": {
   "display_name": "Python 3",
   "language": "python",
   "name": "python3"
  },
  "language_info": {
   "codemirror_mode": {
    "name": "ipython",
    "version": 3
   },
   "file_extension": ".py",
   "mimetype": "text/x-python",
   "name": "python",
   "nbconvert_exporter": "python",
   "pygments_lexer": "ipython3",
   "version": "3.7.3"
  }
 },
 "nbformat": 4,
 "nbformat_minor": 2
}
