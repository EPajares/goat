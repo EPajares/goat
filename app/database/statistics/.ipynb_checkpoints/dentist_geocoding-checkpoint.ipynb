{
 "cells": [
  {
   "cell_type": "code",
   "execution_count": 1,
   "metadata": {},
   "outputs": [],
   "source": [
    "import geopandas\n",
    "import geopy\n",
    "from geopy.geocoders import Nominatim\n",
    "import openpyxl\n",
    "import csv\n",
    "import os"
   ]
  },
  {
   "cell_type": "code",
   "execution_count": 2,
   "metadata": {},
   "outputs": [],
   "source": [
    "#Zum Ordner\n",
    "os.chdir(r'C:\\Users\\sebas\\Documents\\Privat\\Uni\\Umweltingenieurwesen\\Masterarbeit\\data\\pois')\n"
   ]
  },
  {
   "cell_type": "code",
   "execution_count": 8,
   "metadata": {},
   "outputs": [
    {
     "name": "stdout",
     "output_type": "stream",
     "text": [
      "TypeError: Check list of indices\n",
      "TypeError: Check list of indices\n",
      "TypeError: Check list of indices\n",
      "TypeError: Check list of indices\n",
      "TypeError: Check list of indices\n",
      "TypeError: Check list of indices\n"
     ]
    }
   ],
   "source": [
    "locator = Nominatim(user_agent=\"myGeocoder\")\n",
    "file = openpyxl.load_workbook('muc_dentists.xlsx')\n",
    "sheet = file['Tabelle1']\n",
    "outputFile = open('muc_dentists_coordinates.csv','w',newline='')\n",
    "outputWriter = csv.writer(outputFile)\n",
    "outputWriter.writerow(['Arztart','Fachgebiet','Name', 'Straße', 'Postleitzahl', 'Ort', 'Lat', 'Long'])\n",
    "for k in range(2, sheet.max_row+1):\n",
    "    street = str(sheet['E'+str(k)].value)\n",
    "    zipcode = str(sheet['G'+str(k)].value)\n",
    "    if zipcode is None:\n",
    "        location = locator.geocode(\"\"+street+\", München, Deutschland\")\n",
    "    else:\n",
    "        location = locator.geocode(\"\"+street+\",\"+zipcode+\", München, Deutschland\")\n",
    "    try:\n",
    "        outputWriter.writerow([\"Zahnarzt\",\"Zahnarzt\",str(sheet['A'+str(k)].value)+\" \"+str(sheet['C'+str(k)].value)+\" \"+str(sheet['D'+str(k)].value),str(street),str(zipcode),str(\"München\"),str(location[1][0]),str(location[1][1])])\n",
    "    except TypeError:\n",
    "        print(\"TypeError: Check list of indices\")\n",
    "        outputWriter.writerow([\"Zahnarzt\",\"Zahnarzt\",str(sheet['A'+str(k)].value)+\" \"+str(sheet['C'+str(k)].value)+\" \"+str(sheet['D'+str(k)].value),str(street),str(zipcode),str(\"München\"),str(\"0\"),str(\"0\")])\n",
    "\n",
    "outputFile.close()"
   ]
  },
  {
   "cell_type": "code",
   "execution_count": null,
   "metadata": {},
   "outputs": [],
   "source": [
    "for k in range (2, sheet.max_row+1):\n",
    "    street = str(sheet['B'+str(k)].value)\n",
    "    zipcode = str(sheet['C'+str(k)].value)\n",
    "    location = locator.geocode(\"\"+street+\",\"+zipcode+\", München, Deutschland\")\n",
    "    location\n",
    "    #location[1][0]\n",
    "    #y = location[1][0]\n",
    "    #x = location[1][1]\n",
    "    #outputWriter.writerow([str(sheet['A'+str(k)].value),str(street),str(zipcode),str(\"München\"),str(y),str(x)])\n"
   ]
  },
  {
   "cell_type": "code",
   "execution_count": 6,
   "metadata": {},
   "outputs": [
    {
     "ename": "NameError",
     "evalue": "name 'outputFIle' is not defined",
     "output_type": "error",
     "traceback": [
      "\u001b[1;31m---------------------------------------------------------------------------\u001b[0m",
      "\u001b[1;31mNameError\u001b[0m                                 Traceback (most recent call last)",
      "\u001b[1;32m<ipython-input-6-7ed54ffca4dc>\u001b[0m in \u001b[0;36m<module>\u001b[1;34m\u001b[0m\n\u001b[1;32m----> 1\u001b[1;33m \u001b[0moutputFIle\u001b[0m\u001b[1;33m.\u001b[0m\u001b[0mclose\u001b[0m\u001b[1;33m(\u001b[0m\u001b[1;33m)\u001b[0m\u001b[1;33m\u001b[0m\u001b[1;33m\u001b[0m\u001b[0m\n\u001b[0m",
      "\u001b[1;31mNameError\u001b[0m: name 'outputFIle' is not defined"
     ]
    }
   ],
   "source": [
    "outputFIle.close()"
   ]
  }
 ],
 "metadata": {
  "kernelspec": {
   "display_name": "Python 3",
   "language": "python",
   "name": "python3"
  },
  "language_info": {
   "codemirror_mode": {
    "name": "ipython",
    "version": 3
   },
   "file_extension": ".py",
   "mimetype": "text/x-python",
   "name": "python",
   "nbconvert_exporter": "python",
   "pygments_lexer": "ipython3",
   "version": "3.7.3"
  }
 },
 "nbformat": 4,
 "nbformat_minor": 2
}
