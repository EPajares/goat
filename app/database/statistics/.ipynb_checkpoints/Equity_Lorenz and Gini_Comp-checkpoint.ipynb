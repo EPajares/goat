{
 "cells": [
  {
   "cell_type": "code",
   "execution_count": 9,
   "metadata": {},
   "outputs": [
    {
     "name": "stdout",
     "output_type": "stream",
     "text": [
      "Import successfull\n"
     ]
    }
   ],
   "source": [
    "#Import modules\n",
    "\n",
    "import psycopg2\n",
    "import pandas as pd\n",
    "import matplotlib.pyplot as plt\n",
    "import numpy as np\n",
    "import scipy.stats as sp\n",
    "\n",
    "print(\"Import successfull\")"
   ]
  },
  {
   "cell_type": "code",
   "execution_count": 10,
   "metadata": {},
   "outputs": [
    {
     "name": "stdout",
     "output_type": "stream",
     "text": [
      "Opened database successfully\n"
     ]
    }
   ],
   "source": [
    "#Connection to database\n",
    "conn = psycopg2.connect(database=\"goat\", user=\"goat\", password=\"earlmanigault\", host=\"localhost\", port=\"65432\")\n",
    "cur = conn.cursor()\n",
    "print(\"Opened database successfully\")"
   ]
  },
  {
   "cell_type": "code",
   "execution_count": 16,
   "metadata": {},
   "outputs": [
    {
     "name": "stdout",
     "output_type": "stream",
     "text": [
      "Tables selected successfully\n"
     ]
    }
   ],
   "source": [
    "#Load data and pre processing\n",
    "data = pd.read_sql_query(\"SELECT a.nursery_comp, a.kindergarten_comp, p.*, g.* from grid_access_comp a, grid_population p, grid_access_20 g where a.grid_id = p.grid_id and p.grid_id = g.grid_id;\", conn, index_col=None, coerce_float=True, params=None, parse_dates=None, chunksize=None)\n",
    "print(\"Tables selected successfully\")"
   ]
  },
  {
   "cell_type": "code",
   "execution_count": 19,
   "metadata": {},
   "outputs": [],
   "source": [
    "#Define categories and amenities in grid_access table\n",
    "amenities_education = ['Nursery_Comp', 'Kindergarten_Comp', 'Nursery', 'Kindergarten']\n"
   ]
  },
  {
   "cell_type": "code",
   "execution_count": 13,
   "metadata": {},
   "outputs": [],
   "source": [
    "#Define Lorenz-Curve Function\n",
    "def lorenz(data, amenities, column2):\n",
    "    a = plt.figure(num=1,dpi=500)\n",
    "    axes = a.add_axes([0.1,0.1,0.8,0.8])\n",
    "    axes.set_xlim([0,1])\n",
    "    axes.set_ylim([0,1])\n",
    "    axes.set_xlabel('Share of Population')\n",
    "    axes.set_ylabel('Share of Accessibility')\n",
    "    axes.grid(True, color ='#EEEEEE')\n",
    "    perfect_line = plt.plot ([0,1],[0,1], label = 'Line of absolute equality', color = 'black')\n",
    "    for category in amenities:\n",
    "        df1 = data[data[category.lower()]>0]\n",
    "        df1 = df1[df1[category.lower()]<10]\n",
    "        df2 = df1[df1[column2]>0]\n",
    "        order_ai = df2.sort_values(by=[category.lower()], ascending=True)\n",
    "        order_pop = df2.sort_values(by=[column2], ascending=True)\n",
    "        sum_ai = np.sum(order_ai[category.lower()])\n",
    "        sum_pop = np.sum(order_ai[column2])\n",
    "        cumsum_ai = np.cumsum(order_ai[category.lower()])\n",
    "        cumsum_pop = np.cumsum(order_ai[column2])\n",
    "        x = cumsum_pop/sum_pop\n",
    "        y = cumsum_ai/sum_ai\n",
    "        lorenz = plt.plot(x,y, label = category.replace(\"_\", \" \"))\n",
    "    plt.legend(loc='upper left')\n",
    "    plt.show()"
   ]
  },
  {
   "cell_type": "code",
   "execution_count": null,
   "metadata": {},
   "outputs": [],
   "source": [
    "#Define Gini-Coefficient function\n",
    "def gini (data, amenities, column2):\n",
    "    for category in amenities:\n",
    "        df1 = data[data[category.lower()]>0]\n",
    "        df2 = df1[df1[column2]>0]\n",
    "        order_ai = df2.sort_values(by=[category.lower()], ascending=True)\n",
    "        sum_ai = np.sum(order_ai[category.lower()])\n",
    "        sum_pop = np.sum(order_ai[column2])\n",
    "        cumsum_ai = list(np.cumsum(order_ai[category.lower()]))\n",
    "        cumsum_pop = list(np.cumsum(order_ai[column2]))\n",
    "        x = list(cumsum_pop/sum_pop)\n",
    "        y = list(cumsum_ai/sum_ai)\n",
    "        for i in range(len(cumsum_ai)):\n",
    "            if i < 1:\n",
    "                ca = 0\n",
    "            if i >= 1:\n",
    "                ca = ca + 0.5 * (y[i-1]+y[i]) * (x[i]-x[i-1])\n",
    "        ca = 0.5 - ca\n",
    "        gini = ca*((2*np.count_nonzero(df2))/(np.count_nonzero(df2)-1))\n",
    "        print(category.replace(\"_\", \" \"), round(gini,2))"
   ]
  },
  {
   "cell_type": "code",
   "execution_count": null,
   "metadata": {
    "scrolled": false
   },
   "outputs": [],
   "source": [
    "gini(data,amenities_education,'population')\n",
    "lorenz(data,amenities_education,'population')"
   ]
  }
 ],
 "metadata": {
  "kernelspec": {
   "display_name": "Python 3",
   "language": "python",
   "name": "python3"
  },
  "language_info": {
   "codemirror_mode": {
    "name": "ipython",
    "version": 3
   },
   "file_extension": ".py",
   "mimetype": "text/x-python",
   "name": "python",
   "nbconvert_exporter": "python",
   "pygments_lexer": "ipython3",
   "version": "3.8.8"
  }
 },
 "nbformat": 4,
 "nbformat_minor": 2
}
