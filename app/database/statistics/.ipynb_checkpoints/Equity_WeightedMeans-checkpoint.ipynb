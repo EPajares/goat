{
 "cells": [
  {
   "cell_type": "code",
   "execution_count": 4,
   "metadata": {},
   "outputs": [
    {
     "name": "stdout",
     "output_type": "stream",
     "text": [
      "Import successfull\n"
     ]
    }
   ],
   "source": [
    "#Import modules\n",
    "\n",
    "import psycopg2\n",
    "import pandas as pd\n",
    "#installieren import geopandas\n",
    "import matplotlib.pyplot as plt\n",
    "import numpy as np\n",
    "import scipy.stats as sp\n",
    "\n",
    "\n",
    "print(\"Import successfull\")"
   ]
  },
  {
   "cell_type": "code",
   "execution_count": 5,
   "metadata": {},
   "outputs": [
    {
     "name": "stdout",
     "output_type": "stream",
     "text": [
      "Opened database successfully\n"
     ]
    }
   ],
   "source": [
    "#Connection to database\n",
    "conn = psycopg2.connect(database=\"goat\", user=\"goat\", password=\"earlmanigault\", host=\"localhost\", port=\"65432\")\n",
    "cur = conn.cursor()\n",
    "print(\"Opened database successfully\")"
   ]
  },
  {
   "cell_type": "code",
   "execution_count": 6,
   "metadata": {},
   "outputs": [
    {
     "name": "stdout",
     "output_type": "stream",
     "text": [
      "Tables selected successfully\n"
     ]
    }
   ],
   "source": [
    "#Load data and pre processing\n",
    "data = pd.read_sql_query(\"SELECT a.*, p.* from grid_access a, grid_population p where a.grid_id = p.grid_id;\", conn, index_col=None, coerce_float=True, params=None, parse_dates=None, chunksize=None)\n",
    "print(\"Tables selected successfully\")"
   ]
  },
  {
   "cell_type": "code",
   "execution_count": 14,
   "metadata": {},
   "outputs": [],
   "source": [
    "amenities_food = ['Supermarket','Discount_Supermarket','Hypermarket','Organic']\n",
    "amenities_education = ['Kindergarten','Nursery','After_school','Grundschule','Hauptschule_mittelschule','Realschule','Gymnasium']\n",
    "amenities_health = ['General_Practitioner','Paediatrician','Gynaecologist','Psychotherapist','Dentist','Pharmacy']\n",
    "amenities_transport = ['bus_stop','tram_stop','subway_entrance','rail_station']\n",
    "origin = ['population','nomigr','migr','foreigner']\n",
    "hh = ['households','hh_nochild','hh_child','hh_sp','hh_tp']"
   ]
  },
  {
   "cell_type": "code",
   "execution_count": 8,
   "metadata": {},
   "outputs": [],
   "source": [
    "#weighted mean\n",
    "def weightedMean(data,amenities,population):\n",
    "    for category in amenities:\n",
    "        df1 = data[data[category.lower()]>0]\n",
    "        print(category)\n",
    "        for userGroup in population:\n",
    "            df2 = df1[df1[userGroup.lower()]>0]\n",
    "            sum_pop=np.sum(df2[userGroup.lower()])\n",
    "            x = np.sum(np.multiply(df2[category.lower()],df2[userGroup.lower()]/sum_pop))\n",
    "            print(userGroup+': '+str(x))"
   ]
  },
  {
   "cell_type": "code",
   "execution_count": 9,
   "metadata": {},
   "outputs": [
    {
     "name": "stdout",
     "output_type": "stream",
     "text": [
      "General_Practitioner\n",
      "population: 149937.22731813474\n",
      "nomigr: 154700.07111291116\n",
      "migr: 137746.35276298143\n",
      "foreigner: 146668.11158096427\n",
      "Paediatrician\n",
      "population: 20014.010677064034\n",
      "nomigr: 20728.633882410053\n",
      "migr: 19207.66579528804\n",
      "foreigner: 19105.351921232294\n",
      "Gynaecologist\n",
      "population: 50493.29368194402\n",
      "nomigr: 53368.90408839844\n",
      "migr: 44009.64670334928\n",
      "foreigner: 47355.862045306465\n",
      "Psychotherapist\n",
      "population: 102311.47147024001\n",
      "nomigr: 110504.15546772069\n",
      "migr: 89275.82406144051\n",
      "foreigner: 92773.92880885053\n",
      "Dentist\n",
      "population: 72517.53415114521\n",
      "nomigr: 76402.68600924776\n",
      "migr: 64737.23283353323\n",
      "foreigner: 68620.13277014912\n",
      "Pharmacy\n",
      "population: 44174.04998823411\n",
      "nomigr: 45657.040660667175\n",
      "migr: 40809.058438984895\n",
      "foreigner: 43035.886096796195\n"
     ]
    }
   ],
   "source": [
    "weightedMean(data,amenities_health,origin)"
   ]
  },
  {
   "cell_type": "code",
   "execution_count": 10,
   "metadata": {},
   "outputs": [
    {
     "name": "stdout",
     "output_type": "stream",
     "text": [
      "Supermarket\n",
      "population: 27914.302422097993\n",
      "nomigr: 28646.106811556507\n",
      "migr: 26334.940941421606\n",
      "foreigner: 27364.094692595863\n",
      "Discount_Supermarket\n",
      "population: 22233.840492496027\n",
      "nomigr: 21929.375647618122\n",
      "migr: 21941.138117314353\n",
      "foreigner: 23013.41479720302\n",
      "Hypermarket\n",
      "population: 4459.048665229908\n",
      "nomigr: 4435.386925445485\n",
      "migr: 4404.033083666989\n",
      "foreigner: 4530.349484389011\n",
      "Organic\n",
      "population: 12072.606550001477\n",
      "nomigr: 12581.736866945432\n",
      "migr: 11215.620211356814\n",
      "foreigner: 11525.800538309959\n"
     ]
    }
   ],
   "source": [
    "weightedMean(data,amenities_food,origin)"
   ]
  },
  {
   "cell_type": "code",
   "execution_count": 11,
   "metadata": {},
   "outputs": [
    {
     "name": "stdout",
     "output_type": "stream",
     "text": [
      "Kindergarten\n",
      "population: 92405.6996384212\n",
      "nomigr: 93903.17888892547\n",
      "migr: 90154.1227304638\n",
      "foreigner: 90996.92184851572\n",
      "Nursery\n",
      "population: 83371.54188428886\n",
      "nomigr: 84854.20272537821\n",
      "migr: 80384.77927359594\n",
      "foreigner: 82378.83407436262\n",
      "After_school\n",
      "population: 33947.385406128\n",
      "nomigr: 34054.935376376554\n",
      "migr: 33715.693398992174\n",
      "foreigner: 33938.247494512776\n",
      "Grundschule\n",
      "population: 24777.431843300543\n",
      "nomigr: 24778.50502645108\n",
      "migr: 24765.896770980467\n",
      "foreigner: 24805.39735319789\n",
      "Hauptschule_mittelschule\n",
      "population: 11340.210471986098\n",
      "nomigr: 11346.760147177816\n",
      "migr: 11227.25390800973\n",
      "foreigner: 11397.590826723193\n",
      "Realschule\n",
      "population: 9534.739670418858\n",
      "nomigr: 9353.703776507497\n",
      "migr: 9702.693907487694\n",
      "foreigner: 9773.019560974648\n",
      "Gymnasium\n",
      "population: 12018.567624263927\n",
      "nomigr: 12443.455451829272\n",
      "migr: 11352.601060835239\n",
      "foreigner: 11531.713936668875\n"
     ]
    }
   ],
   "source": [
    "weightedMean(data,amenities_education,origin)"
   ]
  },
  {
   "cell_type": "code",
   "execution_count": 15,
   "metadata": {},
   "outputs": [
    {
     "name": "stdout",
     "output_type": "stream",
     "text": [
      "bus_stop\n",
      "population: 47116.01655909758\n",
      "nomigr: 46894.29840559581\n",
      "migr: 47229.95884956868\n",
      "foreigner: 47504.113476791805\n",
      "tram_stop\n",
      "population: 19857.846931394313\n",
      "nomigr: 20366.975294479846\n",
      "migr: 18927.83709382035\n",
      "foreigner: 19266.422232301793\n",
      "subway_entrance\n",
      "population: 10320.024852294948\n",
      "nomigr: 10497.177056101407\n",
      "migr: 9765.71802206138\n",
      "foreigner: 10264.451628504401\n",
      "rail_station\n",
      "population: 3627.3686990231336\n",
      "nomigr: 3538.4408016896946\n",
      "migr: 3538.938646556857\n",
      "foreigner: 3831.675855472393\n"
     ]
    }
   ],
   "source": [
    "weightedMean(data,amenities_transport,origin)"
   ]
  },
  {
   "cell_type": "code",
   "execution_count": 19,
   "metadata": {},
   "outputs": [
    {
     "name": "stdout",
     "output_type": "stream",
     "text": [
      "Kindergarten\n",
      "households: 94024.37497446791\n",
      "hh_nochild: 95712.15714522295\n",
      "hh_child: 86304.29228471329\n",
      "hh_sp: 89661.32130197813\n",
      "hh_tp: 85537.62078033372\n",
      "Nursery\n",
      "households: 85243.63039190587\n",
      "hh_nochild: 87180.41292658614\n",
      "hh_child: 76415.64489315252\n",
      "hh_sp: 80017.87524307013\n",
      "hh_tp: 75589.61840954942\n",
      "After_school\n",
      "households: 34343.91907275665\n",
      "hh_nochild: 34837.42361901141\n",
      "hh_child: 32050.517141396384\n",
      "hh_sp: 33492.603896857\n",
      "hh_tp: 31722.92260641938\n",
      "Grundschule\n",
      "households: 25046.769413073893\n",
      "hh_nochild: 25365.32782635355\n",
      "hh_child: 23681.196557649433\n",
      "hh_sp: 24448.0586255479\n",
      "hh_tp: 23504.85326600904\n",
      "Hauptschule_mittelschule\n",
      "households: 11372.361611775386\n",
      "hh_nochild: 11459.984714427528\n",
      "hh_child: 11000.753880814093\n",
      "hh_sp: 11396.848568648536\n",
      "hh_tp: 10907.239724028437\n",
      "Realschule\n",
      "households: 9496.199260254292\n",
      "hh_nochild: 9507.494229888867\n",
      "hh_child: 9381.769713350877\n",
      "hh_sp: 9486.614858332712\n",
      "hh_tp: 9353.804079980286\n",
      "Gymnasium\n",
      "households: 12311.285924540114\n",
      "hh_nochild: 12480.326987438511\n",
      "hh_child: 11463.488206477366\n",
      "hh_sp: 11590.190226023213\n",
      "hh_tp: 11430.827135216447\n"
     ]
    }
   ],
   "source": [
    "weightedMean(data,amenities_education,hh)"
   ]
  },
  {
   "cell_type": "code",
   "execution_count": 18,
   "metadata": {},
   "outputs": [
    {
     "name": "stdout",
     "output_type": "stream",
     "text": [
      "General_Practitioner\n",
      "households: 155671.48661478318\n",
      "hh_nochild: 158842.7015296638\n",
      "hh_child: 132589.67344342967\n",
      "hh_sp: 139302.26583736466\n",
      "hh_tp: 131037.52991605342\n",
      "Paediatrician\n",
      "households: 20459.414627259408\n",
      "hh_nochild: 20667.2968637428\n",
      "hh_child: 19339.580970746956\n",
      "hh_sp: 19448.312286184904\n",
      "hh_tp: 19311.167894621463\n",
      "Gynaecologist\n",
      "households: 52647.954970337334\n",
      "hh_nochild: 53170.275259171336\n",
      "hh_child: 42755.7294478915\n",
      "hh_sp: 44551.53183585314\n",
      "hh_tp: 42326.561954725956\n",
      "Psychotherapist\n",
      "households: 108565.03548873067\n",
      "hh_nochild: 111575.9056879626\n",
      "hh_child: 87450.75503258876\n",
      "hh_sp: 89962.73753366144\n",
      "hh_tp: 86841.69046258688\n",
      "Dentist\n",
      "households: 76287.63810001891\n",
      "hh_nochild: 77858.28067106038\n",
      "hh_child: 62913.76786301096\n",
      "hh_sp: 65319.22587228699\n",
      "hh_tp: 62357.70623072824\n",
      "Pharmacy\n",
      "households: 45922.60735970337\n",
      "hh_nochild: 46911.67411343093\n",
      "hh_child: 39509.024369004306\n",
      "hh_sp: 41294.73418995278\n",
      "hh_tp: 39094.26639150843\n"
     ]
    }
   ],
   "source": [
    "weightedMean(data,amenities_health,hh)"
   ]
  },
  {
   "cell_type": "code",
   "execution_count": 17,
   "metadata": {},
   "outputs": [
    {
     "name": "stdout",
     "output_type": "stream",
     "text": [
      "Supermarket\n",
      "households: 28886.206207489256\n",
      "hh_nochild: 29506.160185783327\n",
      "hh_child: 25394.945886113997\n",
      "hh_sp: 26334.65576390784\n",
      "hh_tp: 25177.009393363292\n",
      "Discount_Supermarket\n",
      "households: 22620.31108274525\n",
      "hh_nochild: 23066.385927241383\n",
      "hh_child: 20581.81595337534\n",
      "hh_sp: 21533.968063392964\n",
      "hh_tp: 20364.10635572869\n",
      "Hypermarket\n",
      "households: 4466.406874227341\n",
      "hh_nochild: 4488.1545257653\n",
      "hh_child: 4385.408584169454\n",
      "hh_sp: 4378.405508072175\n",
      "hh_tp: 4385.875962426855\n",
      "Organic\n",
      "households: 12453.460784759516\n",
      "hh_nochild: 12704.343164548578\n",
      "hh_child: 11027.318245643795\n",
      "hh_sp: 11346.688815582784\n",
      "hh_tp: 10955.149036249884\n"
     ]
    }
   ],
   "source": [
    "weightedMean(data,amenities_food,hh)"
   ]
  },
  {
   "cell_type": "code",
   "execution_count": 16,
   "metadata": {},
   "outputs": [
    {
     "name": "stdout",
     "output_type": "stream",
     "text": [
      "bus_stop\n",
      "households: 47327.86665602772\n",
      "hh_nochild: 47552.9069622412\n",
      "hh_child: 46276.97175607142\n",
      "hh_sp: 46794.76996574039\n",
      "hh_tp: 46155.871331639115\n",
      "tram_stop\n",
      "households: 20195.90734342453\n",
      "hh_nochild: 20406.052854999252\n",
      "hh_child: 18561.144197962578\n",
      "hh_sp: 18843.209427782418\n",
      "hh_tp: 18487.834504141516\n",
      "subway_entrance\n",
      "households: 10598.16460577494\n",
      "hh_nochild: 10728.772188712548\n",
      "hh_child: 9590.322350985734\n",
      "hh_sp: 9848.373140878724\n",
      "hh_tp: 9525.650213638695\n",
      "rail_station\n",
      "households: 3573.6297637021407\n",
      "hh_nochild: 3578.6879052988456\n",
      "hh_child: 3403.7136495866084\n",
      "hh_sp: 3457.939344610376\n",
      "hh_tp: 3390.639753486056\n"
     ]
    }
   ],
   "source": [
    "weightedMean(data,amenities_transport,hh)"
   ]
  }
 ],
 "metadata": {
  "kernelspec": {
   "display_name": "Python 3",
   "language": "python",
   "name": "python3"
  },
  "language_info": {
   "codemirror_mode": {
    "name": "ipython",
    "version": 3
   },
   "file_extension": ".py",
   "mimetype": "text/x-python",
   "name": "python",
   "nbconvert_exporter": "python",
   "pygments_lexer": "ipython3",
   "version": "3.8.8"
  }
 },
 "nbformat": 4,
 "nbformat_minor": 2
}
