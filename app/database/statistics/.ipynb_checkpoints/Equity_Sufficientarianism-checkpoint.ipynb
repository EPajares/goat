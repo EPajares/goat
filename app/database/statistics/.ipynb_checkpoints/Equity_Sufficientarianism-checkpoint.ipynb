{
 "cells": [
  {
   "cell_type": "code",
   "execution_count": 1,
   "metadata": {},
   "outputs": [
    {
     "name": "stdout",
     "output_type": "stream",
     "text": [
      "Import successfull\n"
     ]
    }
   ],
   "source": [
    "#Import modules\n",
    "\n",
    "import psycopg2\n",
    "import pandas as pd\n",
    "import matplotlib.pyplot as plt\n",
    "import numpy as np\n",
    "import scipy.stats as sp\n",
    "\n",
    "\n",
    "print(\"Import successfull\")"
   ]
  },
  {
   "cell_type": "code",
   "execution_count": 2,
   "metadata": {},
   "outputs": [
    {
     "name": "stdout",
     "output_type": "stream",
     "text": [
      "Opened database successfully\n"
     ]
    }
   ],
   "source": [
    "#Connection to database\n",
    "conn = psycopg2.connect(database=\"goat\", user=\"goat\", password=\"earlmanigault\", host=\"localhost\", port=\"65432\")\n",
    "cur = conn.cursor()\n",
    "print(\"Opened database successfully\")"
   ]
  },
  {
   "cell_type": "code",
   "execution_count": 3,
   "metadata": {},
   "outputs": [
    {
     "name": "stdout",
     "output_type": "stream",
     "text": [
      "Tables selected successfully\n"
     ]
    }
   ],
   "source": [
    "#Load data and pre processing 20 minutes\n",
    "data = pd.read_sql_query(\"SELECT a.*, p.* from grid_access_20 a, grid_population p where a.grid_id = p.grid_id;\", conn, index_col=None, coerce_float=True, params=None, parse_dates=None, chunksize=None)\n",
    "#Load data and pre processing 10 minutes\n",
    "data2 = pd.read_sql_query(\"SELECT a.*, p.* from grid_access_10 a, grid_population p where a.grid_id = p.grid_id;\", conn, index_col=None, coerce_float=True, params=None, parse_dates=None, chunksize=None)\n",
    "print(\"Tables selected successfully\")"
   ]
  },
  {
   "cell_type": "code",
   "execution_count": 4,
   "metadata": {},
   "outputs": [],
   "source": [
    "amenities_education = ['Kindergarten','Nursery','After_school','Grundschule','Hauptschule_mittelschule','Realschule','Gymnasium']\n",
    "amenities_health = ['Pharmacy','General_Practitioner','Paediatrician','Gynaecologist','Dentist']\n",
    "amenities_food = ['Grocery_Shops','Supermarket','Discount_Supermarket','Organic']\n",
    "amenities_transport = ['bus_stop','tram_stop','subway_entrance','rail_station']"
   ]
  },
  {
   "cell_type": "code",
   "execution_count": 5,
   "metadata": {},
   "outputs": [],
   "source": [
    "#Define function for sufficientarian calculation\n",
    "def suf(data,amenities,population):\n",
    "    sum_pop = np.sum(data[population])\n",
    "    for category in amenities:\n",
    "        df = data[data[category.lower()]>0]\n",
    "        sum_pop_ai = np.sum(df[population])\n",
    "        share = (sum_pop_ai/sum_pop)\n",
    "        print(str(category)+' '+str(round(share,3)))\n",
    "    "
   ]
  },
  {
   "cell_type": "code",
   "execution_count": 11,
   "metadata": {},
   "outputs": [
    {
     "name": "stdout",
     "output_type": "stream",
     "text": [
      "Access within 20 minutes\n",
      "Kindergarten 0.997\n",
      "Nursery 0.996\n",
      "After_school 0.982\n",
      "Grundschule 0.968\n",
      "Hauptschule_mittelschule 0.721\n",
      "Realschule 0.498\n",
      "Gymnasium 0.629\n",
      "\n",
      "Access within 10 minutes\n",
      "Kindergarten 0.973\n",
      "Nursery 0.949\n",
      "After_school 0.798\n",
      "Grundschule 0.659\n",
      "Hauptschule_mittelschule 0.281\n",
      "Realschule 0.169\n",
      "Gymnasium 0.206\n"
     ]
    }
   ],
   "source": [
    "print('Access within 20 minutes')\n",
    "suf(data,amenities_education,'population')\n",
    "print('\\nAccess within 10 minutes')\n",
    "suf(data2,amenities_education,'population')"
   ]
  },
  {
   "cell_type": "code",
   "execution_count": 10,
   "metadata": {},
   "outputs": [
    {
     "name": "stdout",
     "output_type": "stream",
     "text": [
      "Access within 20 minutes\n",
      "Pharmacy 0.98\n",
      "General_Practitioner 0.989\n",
      "Paediatrician 0.892\n",
      "Gynaecologist 0.88\n",
      "Dentist 0.964\n",
      "\n",
      "Access within 10 minutes\n",
      "Pharmacy 0.828\n",
      "General_Practitioner 0.887\n",
      "Paediatrician 0.468\n",
      "Gynaecologist 0.541\n",
      "Dentist 0.764\n"
     ]
    }
   ],
   "source": [
    "print('Access within 20 minutes')\n",
    "suf(data,amenities_health,'population')\n",
    "print('\\nAccess within 10 minutes')\n",
    "suf(data2,amenities_health,'population')"
   ]
  },
  {
   "cell_type": "code",
   "execution_count": 13,
   "metadata": {},
   "outputs": [
    {
     "name": "stdout",
     "output_type": "stream",
     "text": [
      "Access within 20 minutes\n",
      "Grocery_Shops 0.982\n",
      "Supermarket 0.973\n",
      "Discount_Supermarket 0.949\n",
      "Organic 0.745\n",
      "\n",
      "Access within 10 minutes\n",
      "Grocery_Shops 0.874\n",
      "Supermarket 0.774\n",
      "Discount_Supermarket 0.673\n",
      "Organic 0.378\n"
     ]
    }
   ],
   "source": [
    "print('Access within 20 minutes')\n",
    "suf(data,amenities_food,'population')\n",
    "print('\\nAccess within 10 minutes')\n",
    "suf(data2,amenities_food,'population')"
   ]
  },
  {
   "cell_type": "code",
   "execution_count": 14,
   "metadata": {},
   "outputs": [
    {
     "name": "stdout",
     "output_type": "stream",
     "text": [
      "Access within 20 minutes\n",
      "bus_stop 0.999\n",
      "tram_stop 0.596\n",
      "subway_entrance 0.77\n",
      "rail_station 0.539\n",
      "\n",
      "Access within 10 minutes\n",
      "bus_stop 0.989\n",
      "tram_stop 0.428\n",
      "subway_entrance 0.553\n",
      "rail_station 0.198\n"
     ]
    }
   ],
   "source": [
    "print('Access within 20 minutes')\n",
    "suf(data,amenities_transport,'population')\n",
    "print('\\nAccess within 10 minutes')\n",
    "suf(data2,amenities_transport,'population')"
   ]
  }
 ],
 "metadata": {
  "kernelspec": {
   "display_name": "Python 3",
   "language": "python",
   "name": "python3"
  },
  "language_info": {
   "codemirror_mode": {
    "name": "ipython",
    "version": 3
   },
   "file_extension": ".py",
   "mimetype": "text/x-python",
   "name": "python",
   "nbconvert_exporter": "python",
   "pygments_lexer": "ipython3",
   "version": "3.8.8"
  }
 },
 "nbformat": 4,
 "nbformat_minor": 2
}
